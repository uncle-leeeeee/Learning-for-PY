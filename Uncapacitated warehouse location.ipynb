{
 "cells": [
  {
   "cell_type": "markdown",
   "metadata": {},
   "source": [
    "# 读取数据"
   ]
  },
  {
   "cell_type": "code",
   "execution_count": 1,
   "metadata": {},
   "outputs": [],
   "source": [
    "import numpy as np\n",
    "from pyscipopt import Model, quicksum, multidict\n",
    "\n",
    "# 读取数据\n",
    "class UncapacitatedWarehouseLocation():\n",
    "    def __init__(self):# 确定读取文件的路径\n",
    "        self.dir = \"cap71.txt\"\n",
    "\n",
    "    def read(self):  #读取数据\n",
    "        dir = self.dir\n",
    "        f = open(dir, \"r\")\n",
    "        lines = f.readlines() #获取每行数据\n",
    "        f.close()  \n",
    "        i = 0\n",
    "        warehouseNum = 0\n",
    "        customerNum = 0\n",
    "        Q = [] #容量\n",
    "        F = [] #固定建设费用\n",
    "        D = [] #各客户点需求量\n",
    "        C = [] #各客户点到仓库费用\n",
    "        for s in lines:\n",
    "            if i == 0: #第一行读取客户数量和仓库数量\n",
    "                line = s.split()\n",
    "                warehouseNum = int(line[0])\n",
    "                customerNum = int(line[1])\n",
    "                i += 1\n",
    "                continue\n",
    "            if i <= warehouseNum:#读取仓库的容量和费用\n",
    "                a, b = s.split()\n",
    "                Q.append(int(a))\n",
    "                F.append(float(b))\n",
    "                i += 1\n",
    "                continue\n",
    "            si = s.split()\n",
    "            if len(si) == 1: #读取客户需求量\n",
    "                Di = int(si[0])\n",
    "                D.append(Di)\n",
    "                continue\n",
    "            line = [float(a) for a in si] #读取客户到各仓库的费用\n",
    "            C.extend(line)\n",
    "        C = np.array(C).reshape(customerNum,warehouseNum)\n",
    "        C = C.T# 进行转置\n",
    "        return warehouseNum, customerNum, F, D, C #返回仓库数量，客户数量，固定建设费用，需求量，花费"
   ]
  },
  {
   "cell_type": "markdown",
   "metadata": {},
   "source": [
    "# SCIP求解代码"
   ]
  },
  {
   "cell_type": "code",
   "execution_count": 20,
   "metadata": {},
   "outputs": [],
   "source": [
    "def solve_by_cplex(F, C):\n",
    "    WN, NN = C.shape[0], C.shape[1] #行维度为仓库数量，列维度为客户数量\n",
    "    W = range(WN)\n",
    "    N = range(NN)\n",
    "\n",
    "    model = Model(\"Uncapacitated warehouse location\")\n",
    "\n",
    "#对每个客户的分配以及仓库是否建立设定0-1变量，这里给出的是scip的约束构造方法\n",
    "    x, y = {}, {}\n",
    "    for i in W:\n",
    "        y[i] = model.addVar(vtype=\"B\", name=\"y(%s)\"%i)\n",
    "        for j in N:\n",
    "            x[i, j] = model.addVar(vtype=\"B\", name=\"x(%s, %s)\"%(i,j))\n",
    "\n",
    "    model.setObjective(quicksum(C[i, j]*x[i, j] for i in W for j in N)+quicksum(F[i]*y[i] for i in W), \"minimize\") #目标函数\n",
    "\n",
    "    for j in N:  #逻辑约束\n",
    "        model.addCons(quicksum(x[i,j] for i in W) == 1)\n",
    "        for i in W:\n",
    "            model.addCons(x[i,j] <= y[i])\n",
    "\n",
    "    model.redirectOutput()\n",
    "    model.optimize() #优化\n",
    "    A = [0] * NN  #存放求解结果\n",
    "    for i in W:\n",
    "        if model.getVal(y[i]) > 0.1:\n",
    "            for j in N:\n",
    "                if model.getVal(x[i,j]) >= 0.01:\n",
    "                    A[j] = i\n",
    "    return model.getObjVal(), A"
   ]
  },
  {
   "cell_type": "markdown",
   "metadata": {},
   "source": [
    "# 启发式算法"
   ]
  },
  {
   "cell_type": "code",
   "execution_count": 37,
   "metadata": {},
   "outputs": [],
   "source": [
    "def cost(A, F, L):  #计算当前解的值\n",
    "    N = range(len(A))# 获取客户数量\n",
    "    H = set(A) #获取被选中的仓库集合\n",
    "    c = sum(L[A[i], i] for i in N)  #计算各客户到仓库的成本\n",
    "    c += sum(F[i] for i in H) #再加上建设费用\n",
    "    return c\n",
    "\n",
    "def get_A(H, L):  # 获取初始可行解\n",
    "    N = L.shape[1] #获取客户数量\n",
    "    A = []  \n",
    "    for j in range(N): #遍历客户\n",
    "        D = [L[i, j] for i in H] #获取每个客户到所有仓库的费用列表\n",
    "        min_id = D.index(min(D)) #获取最少费用的那个仓库index\n",
    "        A.append(H[min_id]) #初始解对每个客户分配一个初始仓库点\n",
    "    return A\n",
    "\n",
    "def heuristicAlgorithm(F, C): #启发式算法\n",
    "    WN, NN = C.shape[0], C.shape[1]  #获取仓库和客户数量\n",
    "    cmin = np.inf #设置最小值为无穷大\n",
    "    n = 0 \n",
    "    Amin = None \n",
    "    while n < 500:# 迭代100次\n",
    "        wi = np.random.randint(WN / 2, WN) #以下两步随机生成候选仓库列表\n",
    "        H = np.random.choice(WN, wi, replace=False)  #从[0,WN)范围内选取wi个随机数，replace=False时表示数字不能重复\n",
    "        A = get_A(H, C)  #获得可行解A\n",
    "        c = cost(A, F, C) #计算费用目标函数\n",
    "        if c < cmin: #当费用低于当前最小值时，进行重新赋值\n",
    "            cmin = c\n",
    "            Amin = A #更新最优解\n",
    "            print(\"{}:{}\".format(n, c))\n",
    "        n += 1 \n",
    "    return cmin, Amin"
   ]
  },
  {
   "cell_type": "markdown",
   "metadata": {},
   "source": [
    "# 输出结果"
   ]
  },
  {
   "cell_type": "code",
   "execution_count": 22,
   "metadata": {},
   "outputs": [],
   "source": [
    "def Report(c, A):\n",
    "    A = np.array(A)\n",
    "    P = set(A)\n",
    "    print(\"*\" * 50)\n",
    "    print(\"The optimal objective is %g\" % c)\n",
    "    for i in P: #输出每个仓库对接的客户编号\n",
    "        print(\"Warehouse location {}:\".format(i), end=\"\")\n",
    "        pi = np.where(A == i) \n",
    "        print(list(pi[0]))\n",
    "    print(\"*\" * 50)"
   ]
  },
  {
   "cell_type": "code",
   "execution_count": 23,
   "metadata": {},
   "outputs": [],
   "source": [
    "def test_1():\n",
    "    CWL = UncapacitatedWarehouseLocation()\n",
    "    WN, NN, F, D, C = CWL.read()\n",
    "\n",
    "    # SCIP求解\n",
    "    c, A = solve_by_cplex(F, C)\n",
    "    Report(c, A)"
   ]
  },
  {
   "cell_type": "code",
   "execution_count": 24,
   "metadata": {},
   "outputs": [],
   "source": [
    "def test_2():\n",
    "    CWL = UncapacitatedWarehouseLocation()\n",
    "    WN, NN, F, D, C = CWL.read()\n",
    "\n",
    "    # 启发式算法求解\n",
    "    ch, Ah = heuristicAlgorithm(F, C)\n",
    "    Report(ch, Ah)"
   ]
  },
  {
   "cell_type": "code",
   "execution_count": 26,
   "metadata": {},
   "outputs": [
    {
     "name": "stdout",
     "output_type": "stream",
     "text": [
      "presolving:\n",
      "(round 1, fast)       1 del vars, 50 del conss, 0 add conss, 0 chg bounds, 0 chg sides, 0 chg coeffs, 0 upgd conss, 0 impls, 800 clqs\n",
      "   (0.0s) running MILP presolver\n",
      "   (0.0s) MILP presolver (2 rounds): 0 aggregations, 624 fixings, 0 bound changes\n",
      "(round 2, medium)     625 del vars, 850 del conss, 176 add conss, 0 chg bounds, 0 chg sides, 0 chg coeffs, 0 upgd conss, 0 impls, 176 clqs\n",
      "(round 3, fast)       648 del vars, 873 del conss, 176 add conss, 0 chg bounds, 0 chg sides, 0 chg coeffs, 0 upgd conss, 0 impls, 153 clqs\n",
      "(round 4, fast)       650 del vars, 888 del conss, 176 add conss, 0 chg bounds, 0 chg sides, 0 chg coeffs, 0 upgd conss, 0 impls, 138 clqs\n",
      "   (0.0s) running MILP presolver\n",
      "   (0.0s) MILP presolver (2 rounds): 0 aggregations, 22 fixings, 0 bound changes\n",
      "(round 5, medium)     672 del vars, 888 del conss, 176 add conss, 0 chg bounds, 0 chg sides, 0 chg coeffs, 0 upgd conss, 0 impls, 132 clqs\n",
      "(round 6, fast)       676 del vars, 898 del conss, 176 add conss, 0 chg bounds, 0 chg sides, 0 chg coeffs, 0 upgd conss, 0 impls, 128 clqs\n",
      "(round 7, fast)       677 del vars, 916 del conss, 176 add conss, 0 chg bounds, 0 chg sides, 0 chg coeffs, 0 upgd conss, 0 impls, 110 clqs\n",
      "   (0.0s) running MILP presolver\n",
      "   (0.0s) MILP presolver (2 rounds): 0 aggregations, 38 fixings, 0 bound changes\n",
      "(round 8, medium)     715 del vars, 1026 del conss, 266 add conss, 0 chg bounds, 0 chg sides, 0 chg coeffs, 0 upgd conss, 0 impls, 90 clqs\n",
      "(round 9, fast)       735 del vars, 1046 del conss, 266 add conss, 0 chg bounds, 0 chg sides, 0 chg coeffs, 0 upgd conss, 0 impls, 70 clqs\n",
      "(round 10, fast)       737 del vars, 1050 del conss, 266 add conss, 0 chg bounds, 0 chg sides, 0 chg coeffs, 0 upgd conss, 0 impls, 66 clqs\n",
      "(round 11, fast)       738 del vars, 1050 del conss, 266 add conss, 0 chg bounds, 0 chg sides, 0 chg coeffs, 0 upgd conss, 0 impls, 66 clqs\n",
      "   (0.0s) running MILP presolver\n",
      "   (0.0s) MILP presolver (2 rounds): 0 aggregations, 3 fixings, 0 bound changes\n",
      "(round 12, medium)     741 del vars, 1050 del conss, 266 add conss, 0 chg bounds, 0 chg sides, 0 chg coeffs, 0 upgd conss, 0 impls, 65 clqs\n",
      "(round 13, fast)       744 del vars, 1054 del conss, 266 add conss, 0 chg bounds, 0 chg sides, 0 chg coeffs, 0 upgd conss, 0 impls, 62 clqs\n",
      "(round 14, fast)       745 del vars, 1055 del conss, 266 add conss, 0 chg bounds, 0 chg sides, 0 chg coeffs, 0 upgd conss, 0 impls, 61 clqs\n",
      "(round 15, fast)       746 del vars, 1055 del conss, 266 add conss, 0 chg bounds, 0 chg sides, 0 chg coeffs, 0 upgd conss, 0 impls, 61 clqs\n",
      "(round 16, exhaustive) 746 del vars, 1055 del conss, 266 add conss, 0 chg bounds, 0 chg sides, 0 chg coeffs, 61 upgd conss, 0 impls, 61 clqs\n",
      "(round 17, medium)     763 del vars, 1055 del conss, 266 add conss, 0 chg bounds, 17 chg sides, 17 chg coeffs, 61 upgd conss, 0 impls, 61 clqs\n",
      "   (0.0s) running MILP presolver\n",
      "   (0.0s) MILP presolver found nothing\n",
      "   (0.0s) probing: 51/53 (96.2%) - 0 fixings, 0 aggregations, 0 implications, 0 bound changes\n",
      "   (0.0s) probing aborted: 50/50 successive totally useless probings\n",
      "   (0.0s) symmetry computation started: requiring (bin +, int -, cont +), (fixed: bin -, int +, cont -)\n",
      "   (0.0s) no symmetry present\n",
      "presolving (18 rounds: 18 fast, 7 medium, 2 exhaustive):\n",
      " 763 deleted vars, 1055 deleted constraints, 266 added constraints, 0 tightened bounds, 0 added holes, 17 changed sides, 17 changed coefficients\n",
      " 0 implications, 61 cliques\n",
      "presolved problem has 53 variables (53 bin, 0 int, 0 impl, 0 cont) and 61 constraints\n",
      "     61 constraints of type <setppc>\n",
      "transformed objective value is always integral (scale: 0.0125)\n",
      "Presolving Time: 0.00\n",
      "\n",
      " time | node  | left  |LP iter|LP it/n|mem/heur|mdpt |vars |cons |rows |cuts |sepa|confs|strbr|  dualbound   | primalbound  |  gap   | compl. \n",
      "t 0.0s|     1 |     0 |     0 |     - | trivial|   0 |  53 |  61 |   0 |   0 |  0 |   0 |   0 | 7.791987e+05 | 1.033145e+06 |  32.59%| unknown\n",
      "p 0.0s|     1 |     0 |     0 |     - |  clique|   0 |  53 |  61 |  61 |   0 |  0 |   0 |   0 | 7.791987e+05 | 9.428587e+05 |  21.00%| unknown\n",
      "* 0.0s|     1 |     0 |    33 |     - |    LP  |   0 |  53 |  61 |  61 |   0 |  0 |   0 |   0 | 9.326158e+05 | 9.326158e+05 |   0.00%| unknown\n",
      "  0.0s|     1 |     0 |    33 |     - |  4835k |   0 |  53 |  61 |  61 |   0 |  0 |   0 |   0 | 9.326158e+05 | 9.326158e+05 |   0.00%| unknown\n",
      "\n",
      "SCIP Status        : problem is solved [optimal solution found]\n",
      "Solving Time (sec) : 0.00\n",
      "Solving Nodes      : 1\n",
      "Primal Bound       : +9.32615750000000e+05 (4 solutions)\n",
      "Dual Bound         : +9.32615750000000e+05\n",
      "Gap                : 0.00 %\n",
      "**************************************************\n",
      "The optimal objective is 932616\n",
      "Warehouse location 0:[2, 5, 13, 23, 29, 30, 32]\n",
      "Warehouse location 1:[6]\n",
      "Warehouse location 2:[7, 33]\n",
      "Warehouse location 3:[10, 16, 18, 20, 41]\n",
      "Warehouse location 5:[3, 12, 36, 37, 39, 48]\n",
      "Warehouse location 6:[14, 19, 21, 43, 47]\n",
      "Warehouse location 7:[0, 4, 8, 9, 15, 38, 42, 45, 46]\n",
      "Warehouse location 8:[17]\n",
      "Warehouse location 10:[11, 22, 25, 27, 28, 31, 40]\n",
      "Warehouse location 11:[1, 24, 34, 35, 49]\n",
      "Warehouse location 12:[26, 44]\n",
      "**************************************************\n"
     ]
    }
   ],
   "source": [
    "test_1()"
   ]
  },
  {
   "cell_type": "code",
   "execution_count": 39,
   "metadata": {},
   "outputs": [
    {
     "name": "stdout",
     "output_type": "stream",
     "text": [
      "0:959016.5874999999\n",
      "7:951260.6124999999\n",
      "11:943764.3999999999\n",
      "40:940386.1\n",
      "226:939949.4124999999\n",
      "330:938158.1124999999\n",
      "340:933876.2999999999\n",
      "**************************************************\n",
      "The optimal objective is 933876\n",
      "Warehouse location 0:[2, 5, 13, 23, 29, 30, 32]\n",
      "Warehouse location 1:[6]\n",
      "Warehouse location 2:[7, 33]\n",
      "Warehouse location 3:[10, 16, 18, 20, 35, 41]\n",
      "Warehouse location 5:[3, 12, 36, 37, 39, 48]\n",
      "Warehouse location 6:[1, 14, 19, 21, 34, 43, 47]\n",
      "Warehouse location 7:[0, 4, 8, 9, 15, 38, 42, 45, 46]\n",
      "Warehouse location 8:[17]\n",
      "Warehouse location 10:[11, 22, 24, 25, 27, 28, 31, 40, 49]\n",
      "Warehouse location 12:[26, 44]\n",
      "**************************************************\n"
     ]
    }
   ],
   "source": [
    "test_2()#启发式算法求解"
   ]
  },
  {
   "cell_type": "code",
   "execution_count": 19,
   "metadata": {},
   "outputs": [
    {
     "data": {
      "text/plain": [
       "array([0, 7, 2, 1])"
      ]
     },
     "execution_count": 19,
     "metadata": {},
     "output_type": "execute_result"
    }
   ],
   "source": [
    "wi=np.random.randint(4,8)\n",
    "H=np.random.choice(8,wi,replace=False)\n",
    "H"
   ]
  }
 ],
 "metadata": {
  "interpreter": {
   "hash": "a8f61be024eba58adef938c9aa1e29e02cb3dece83a5348b1a2dafd16a070453"
  },
  "kernelspec": {
   "display_name": "Python 3.8.8 64-bit ('base': conda)",
   "language": "python",
   "name": "python3"
  },
  "language_info": {
   "codemirror_mode": {
    "name": "ipython",
    "version": 3
   },
   "file_extension": ".py",
   "mimetype": "text/x-python",
   "name": "python",
   "nbconvert_exporter": "python",
   "pygments_lexer": "ipython3",
   "version": "3.8.8"
  },
  "orig_nbformat": 4
 },
 "nbformat": 4,
 "nbformat_minor": 2
}
