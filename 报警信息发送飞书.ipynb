{
 "cells": [
  {
   "cell_type": "code",
   "execution_count": 1,
   "metadata": {},
   "outputs": [
    {
     "ename": "ModuleNotFoundError",
     "evalue": "No module named 'arrow'",
     "output_type": "error",
     "traceback": [
      "\u001b[1;31m---------------------------------------------------------------------------\u001b[0m",
      "\u001b[1;31mModuleNotFoundError\u001b[0m                       Traceback (most recent call last)",
      "\u001b[1;32m<ipython-input-1-0499d1a5a3ee>\u001b[0m in \u001b[0;36m<module>\u001b[1;34m\u001b[0m\n\u001b[0;32m      1\u001b[0m \u001b[1;32mimport\u001b[0m \u001b[0mrequests\u001b[0m\u001b[1;33m\u001b[0m\u001b[1;33m\u001b[0m\u001b[0m\n\u001b[1;32m----> 2\u001b[1;33m \u001b[1;32mimport\u001b[0m \u001b[0marrow\u001b[0m\u001b[1;33m\u001b[0m\u001b[1;33m\u001b[0m\u001b[0m\n\u001b[0m\u001b[0;32m      3\u001b[0m \u001b[1;32mfrom\u001b[0m \u001b[0mflask\u001b[0m \u001b[1;32mimport\u001b[0m \u001b[0mFlask\u001b[0m\u001b[1;33m\u001b[0m\u001b[1;33m\u001b[0m\u001b[0m\n\u001b[0;32m      4\u001b[0m \u001b[1;32mfrom\u001b[0m \u001b[0mflask\u001b[0m \u001b[1;32mimport\u001b[0m \u001b[0mrequest\u001b[0m\u001b[1;33m\u001b[0m\u001b[1;33m\u001b[0m\u001b[0m\n\u001b[0;32m      5\u001b[0m \u001b[1;32mimport\u001b[0m \u001b[0mjson\u001b[0m\u001b[1;33m\u001b[0m\u001b[1;33m\u001b[0m\u001b[0m\n",
      "\u001b[1;31mModuleNotFoundError\u001b[0m: No module named 'arrow'"
     ]
    }
   ],
   "source": [
    "import requests\n",
    "import arrow\n",
    "from flask import Flask\n",
    "from flask import request\n",
    "import json\n",
    "app1 = Flask(__name__)\n",
    "@app1.route('/send', methods=['POST'])\n",
    "def send():\n",
    "    url = 'https://open.feishu.cn/open-apis/bot/v2/hook/0a021a34-8fad-4eef-b8eb-05112171f64b'   # lark的weboook\n",
    "    dict1 = dict()\n",
    "    data = json.loads(request.data)\n",
    "    #print(data)\n",
    "    alerts = data['alerts'] \n",
    "    for output in alerts:\n",
    "        try:\n",
    "            message = output['annotations']['message']\n",
    "        except KeyError:\n",
    "            try:\n",
    "                message = output['annotations']['description']\n",
    "            except KeyError:\n",
    "                message = 'null'\n",
    "        info = \"**告警类型**: %s \\n\\n\" % output['labels']['alertname'] + \"**告警详情** : %s \\n\\n\" % message + \"**告警状态**: %s \\n\\n\" % output['status'] + \"**触发时间**: %s \\n\\n\" % arrow.get(output['startsAt']).to('Asia/Shanghai').format('YYYY-MM-DD HH:mm:ss ZZ') + \"**触发结束时间**: %s \\n\" % arrow.get(output['endsAt']).to('Asia/Shanghai').format('YYYY-MM-DD HH:mm:ss ZZ')\n",
    "        # 转换为飞书接受的格式（文本）\n",
    "        send_data = {\n",
    "\t\t\t    \"msg_type\": \"text\",\n",
    "                            \"content\": {\n",
    "\t\t\t                            \"text\":  info\n",
    "\t\t\t           }\n",
    "                    }\n",
    "        send_data = json.dumps(send_data)\n",
    "        print(send_data)\n",
    "        req = requests.post(url, data=send_data)\n",
    "        result = req.json()\n",
    "        #调用api提交信息给短信平台api\n",
    "        # r = requests.post(url_test_api,data=j)\n",
    "    return 'ok'\n",
    "    \n",
    "if __name__ == '__main__':\n",
    "    app1.run(debug=True,host='0.0.0.0',port=5100)\n"
   ]
  },
  {
   "cell_type": "code",
   "execution_count": null,
   "metadata": {},
   "outputs": [],
   "source": []
  }
 ],
 "metadata": {
  "interpreter": {
   "hash": "a8f61be024eba58adef938c9aa1e29e02cb3dece83a5348b1a2dafd16a070453"
  },
  "kernelspec": {
   "display_name": "Python 3.8.8 64-bit ('base': conda)",
   "name": "python3"
  },
  "language_info": {
   "codemirror_mode": {
    "name": "ipython",
    "version": 3
   },
   "file_extension": ".py",
   "mimetype": "text/x-python",
   "name": "python",
   "nbconvert_exporter": "python",
   "pygments_lexer": "ipython3",
   "version": "3.8.8"
  },
  "orig_nbformat": 4
 },
 "nbformat": 4,
 "nbformat_minor": 2
}
