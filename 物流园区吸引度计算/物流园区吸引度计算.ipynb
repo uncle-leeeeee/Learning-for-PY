{
 "cells": [
  {
   "cell_type": "markdown",
   "metadata": {},
   "source": [
    "# python连接Oracle数据库"
   ]
  },
  {
   "cell_type": "code",
   "execution_count": 1,
   "metadata": {},
   "outputs": [],
   "source": [
    "import pandas as pd\n",
    "import numpy as np\n",
    "import cx_Oracle\n",
    "import os\n",
    "connection=cx_Oracle.connect('sys','linzch2020','202.38.228.21:1521/ORCL',cx_Oracle.SYSDBA)"
   ]
  },
  {
   "cell_type": "markdown",
   "metadata": {},
   "source": [
    "# 统计物流园区的吸引度"
   ]
  },
  {
   "cell_type": "code",
   "execution_count": 2,
   "metadata": {},
   "outputs": [],
   "source": [
    "# 遍历六月份的gps数据，根据起始点经纬度，计算每个物流园区的到发量（由距离公式，如果到圆心距离小于3km，则属于从该点出发或到达该点）\n",
    "s1='select startpx,startpy,endpx,endpy from GPS_OUTPUT_RAW_202106_T1 group by startpx,startpy,endpx,endpy'\n",
    "car_SE=pd.read_sql(s1,connection)"
   ]
  },
  {
   "cell_type": "code",
   "execution_count": 3,
   "metadata": {},
   "outputs": [
    {
     "data": {
      "text/plain": [
       "array([[113.202451,  23.341009, 113.440784,  22.55662 ],\n",
       "       [113.114595,  23.039306, 113.040098,  22.959141],\n",
       "       [113.528264,  23.1292  , 113.522968,  23.055634],\n",
       "       ...,\n",
       "       [113.317904,  23.433116, 113.318424,  23.433166],\n",
       "       [113.41789 ,  22.895571, 113.506613,  22.86398 ],\n",
       "       [113.240886,  23.280304, 113.239764,  23.285535]])"
      ]
     },
     "execution_count": 3,
     "metadata": {},
     "output_type": "execute_result"
    }
   ],
   "source": [
    "car_SE=car_SE[['STARTPX','STARTPY','ENDPX','ENDPY']].values\n",
    "car_SE"
   ]
  },
  {
   "cell_type": "code",
   "execution_count": 4,
   "metadata": {},
   "outputs": [
    {
     "data": {
      "text/plain": [
       "numpy.ndarray"
      ]
     },
     "execution_count": 4,
     "metadata": {},
     "output_type": "execute_result"
    }
   ],
   "source": [
    "hub_info=pd.read_excel('广东省物流园区信息(坐标更新版).xlsx')\n",
    "hub_info=hub_info[['经度','维度']]\n",
    "hub_info=hub_info.values\n",
    "type(hub_info)"
   ]
  },
  {
   "cell_type": "code",
   "execution_count": 5,
   "metadata": {},
   "outputs": [
    {
     "data": {
      "text/plain": [
       "numpy.ndarray"
      ]
     },
     "execution_count": 5,
     "metadata": {},
     "output_type": "execute_result"
    }
   ],
   "source": [
    "o=np.zeros(380)\n",
    "d=np.zeros(380)\n",
    "type(o)"
   ]
  },
  {
   "cell_type": "code",
   "execution_count": 6,
   "metadata": {},
   "outputs": [],
   "source": [
    "import pydistance #导入该py，wgs84坐标系下经纬度计算距离。\n",
    "for i in range(car_SE.shape[0]):\n",
    "    for j in range(hub_info.shape[0]):\n",
    "        car_slng,car_slat=car_SE[i,0],car_SE[i,1]#获取每次出行记录的起始点经纬度\n",
    "        car_elng,car_elat=car_SE[i,2],car_SE[i,3] #终点经纬度\n",
    "        hub_lng,hub_lat=hub_info[j,0],hub_info[j,1] #物流园区经纬度\n",
    "        s_distance=pydistance.get_distance_wgs84(car_slng,car_slat,hub_lng,hub_lat) #计算距离\n",
    "        e_distance=pydistance.get_distance_wgs84(car_elng,car_elat,hub_lng,hub_lat)\n",
    "        if(s_distance<=3000): #如果小于3000m，则计数\n",
    "            o[j]+=1\n",
    "        if(e_distance<=3000):\n",
    "            d[j]+=1\n",
    "        #print(i,j)"
   ]
  },
  {
   "cell_type": "markdown",
   "metadata": {},
   "source": [
    "# 将计算结果从ndarry转化为dataframe"
   ]
  },
  {
   "cell_type": "code",
   "execution_count": 24,
   "metadata": {},
   "outputs": [],
   "source": [
    "def ndarry_to_df(nd:np.ndarray,s:str):\n",
    "    df=pd.DataFrame(nd)\n",
    "    df=df/30\n",
    "    df.columns=[s]\n",
    "    df[s]=df[s].astype(np.int64)\n",
    "    return df"
   ]
  },
  {
   "cell_type": "code",
   "execution_count": 30,
   "metadata": {},
   "outputs": [],
   "source": [
    "hub_info=pd.read_excel('广东省物流园区信息(坐标更新版).xlsx')\n",
    "df_o=ndarry_to_df(o,'货车出发频次')\n",
    "hub_info['货车出发频次']=df_o['货车出发频次']\n",
    "df_d=ndarry_to_df(d,'货车到达频次')\n",
    "hub_info['货车到达频次']=df_d['货车到达频次']\n",
    "writer=pd.ExcelWriter('广东省物流园区货车频次.xlsx')\n",
    "hub_info.to_excel(writer)\n",
    "writer.save()"
   ]
  },
  {
   "cell_type": "code",
   "execution_count": 34,
   "metadata": {},
   "outputs": [
    {
     "data": {
      "text/plain": [
       "(16946.0, 937324.0)"
      ]
     },
     "execution_count": 34,
     "metadata": {},
     "output_type": "execute_result"
    }
   ],
   "source": [
    "o.max(),o.sum()"
   ]
  },
  {
   "cell_type": "code",
   "execution_count": 38,
   "metadata": {},
   "outputs": [
    {
     "data": {
      "text/plain": [
       "937324.0"
      ]
     },
     "execution_count": 38,
     "metadata": {},
     "output_type": "execute_result"
    }
   ],
   "source": [
    "o.sum(axis=0)"
   ]
  }
 ],
 "metadata": {
  "interpreter": {
   "hash": "a8f61be024eba58adef938c9aa1e29e02cb3dece83a5348b1a2dafd16a070453"
  },
  "kernelspec": {
   "display_name": "Python 3.8.8 64-bit ('base': conda)",
   "language": "python",
   "name": "python3"
  },
  "language_info": {
   "codemirror_mode": {
    "name": "ipython",
    "version": 3
   },
   "file_extension": ".py",
   "mimetype": "text/x-python",
   "name": "python",
   "nbconvert_exporter": "python",
   "pygments_lexer": "ipython3",
   "version": "3.8.8"
  },
  "orig_nbformat": 4
 },
 "nbformat": 4,
 "nbformat_minor": 2
}
