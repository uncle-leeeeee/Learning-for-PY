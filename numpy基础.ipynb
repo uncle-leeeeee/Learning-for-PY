{
 "cells": [
  {
   "cell_type": "code",
   "execution_count": 25,
   "metadata": {},
   "outputs": [
    {
     "name": "stdout",
     "output_type": "stream",
     "text": [
      "Wall time: 21 ms\n"
     ]
    }
   ],
   "source": [
    "# 考察使用numpy管理数据和不使用之间的差距\n",
    "import numpy as np\n",
    "my_arr=np.arange(1000000)\n",
    "my_list=list(range(1000000))\n",
    "\n",
    "#各个序列分别乘以2\n",
    "%time for _ in range(10): my_arr2=my_arr*2"
   ]
  },
  {
   "cell_type": "code",
   "execution_count": 26,
   "metadata": {},
   "outputs": [
    {
     "name": "stdout",
     "output_type": "stream",
     "text": [
      "Wall time: 998 ms\n"
     ]
    }
   ],
   "source": [
    "%time for _ in range(10): my_list2=[x*2 for x in my_list]"
   ]
  },
  {
   "cell_type": "markdown",
   "metadata": {},
   "source": [
    "# ndarray一种多维数组的对象"
   ]
  },
  {
   "cell_type": "code",
   "execution_count": 27,
   "metadata": {},
   "outputs": [
    {
     "data": {
      "text/plain": [
       "array([[-0.8570639 ,  0.11519908, -0.44115691],\n",
       "       [ 0.31249952, -2.2252004 , -1.2776426 ]])"
      ]
     },
     "execution_count": 27,
     "metadata": {},
     "output_type": "execute_result"
    }
   ],
   "source": [
    "import numpy as np\n",
    "data=np.random.randn(2,3)\n",
    "data"
   ]
  },
  {
   "cell_type": "code",
   "execution_count": 7,
   "metadata": {},
   "outputs": [
    {
     "data": {
      "text/plain": [
       "(array([[ -2.6522083 , -18.76409274,  -4.76675958],\n",
       "        [ -6.06446932,  13.58532616,  -4.00447404]]),\n",
       " array([[-0.53044166, -3.75281855, -0.95335192],\n",
       "        [-1.21289386,  2.71706523, -0.80089481]]))"
      ]
     },
     "execution_count": 7,
     "metadata": {},
     "output_type": "execute_result"
    }
   ],
   "source": [
    "data*10,data+data"
   ]
  },
  {
   "cell_type": "code",
   "execution_count": 8,
   "metadata": {},
   "outputs": [
    {
     "data": {
      "text/plain": [
       "((2, 3), dtype('float64'))"
      ]
     },
     "execution_count": 8,
     "metadata": {},
     "output_type": "execute_result"
    }
   ],
   "source": [
    "#shape返回各维度大小的元组，返回说明数组数据类型的对象\n",
    "data.shape,data.dtype"
   ]
  },
  {
   "cell_type": "code",
   "execution_count": 9,
   "metadata": {},
   "outputs": [
    {
     "data": {
      "text/plain": [
       "array([6, 7, 8, 0, 1])"
      ]
     },
     "execution_count": 9,
     "metadata": {},
     "output_type": "execute_result"
    }
   ],
   "source": [
    "# 创建ndarray,接受一切序列型的对象\n",
    "data1=[6,7,8,0,1]\n",
    "arr1=np.array(data1)\n",
    "arr1"
   ]
  },
  {
   "cell_type": "code",
   "execution_count": 12,
   "metadata": {},
   "outputs": [
    {
     "data": {
      "text/plain": [
       "(array([[1, 2, 3, 4],\n",
       "        [5, 6, 7, 8]]),\n",
       " dtype('int32'))"
      ]
     },
     "execution_count": 12,
     "metadata": {},
     "output_type": "execute_result"
    }
   ],
   "source": [
    "#嵌套序列，转化成多维数组\n",
    "data2=[[1,2,3,4],[5,6,7,8]]\n",
    "arr2=np.array(data2)\n",
    "arr2,arr2.dtype"
   ]
  },
  {
   "cell_type": "code",
   "execution_count": null,
   "metadata": {},
   "outputs": [],
   "source": [
    "#通过zeros,ones,empty来创建一个没有任何具体值的数组"
   ]
  },
  {
   "cell_type": "code",
   "execution_count": 13,
   "metadata": {},
   "outputs": [
    {
     "data": {
      "text/plain": [
       "(array([0., 0., 0., 0., 0., 0., 0., 0., 0., 0.]),\n",
       " array([[0., 0., 0., 0., 0., 0.],\n",
       "        [0., 0., 0., 0., 0., 0.],\n",
       "        [0., 0., 0., 0., 0., 0.]]),\n",
       " array([[[1.30832447e-311, 3.16202013e-322],\n",
       "         [0.00000000e+000, 0.00000000e+000],\n",
       "         [8.01097888e-307, 4.67013312e-062]],\n",
       " \n",
       "        [[1.20858327e+161, 1.88865356e+185],\n",
       "         [1.90099419e-052, 2.25376434e+184],\n",
       "         [1.42564938e-071, 3.92588723e-033]]]))"
      ]
     },
     "execution_count": 13,
     "metadata": {},
     "output_type": "execute_result"
    }
   ],
   "source": [
    "np.zeros(10),np.zeros((3,6)),np.empty((2,3,2))"
   ]
  },
  {
   "cell_type": "code",
   "execution_count": 14,
   "metadata": {},
   "outputs": [
    {
     "data": {
      "text/plain": [
       "array([ 0,  1,  2,  3,  4,  5,  6,  7,  8,  9, 10, 11, 12, 13, 14])"
      ]
     },
     "execution_count": 14,
     "metadata": {},
     "output_type": "execute_result"
    }
   ],
   "source": [
    "# arange是内置函数range的数组版\n",
    "np.arange(15)"
   ]
  },
  {
   "cell_type": "code",
   "execution_count": 15,
   "metadata": {},
   "outputs": [
    {
     "data": {
      "text/plain": [
       "dtype('float64')"
      ]
     },
     "execution_count": 15,
     "metadata": {},
     "output_type": "execute_result"
    }
   ],
   "source": [
    "#通过astype方法来明确转化一个数组的dtype\n",
    "arr=np.array([1,2,3,4,5])\n",
    "arr.dtype\n",
    "float_arr=arr.astype(np.float64)\n",
    "float_arr.dtype"
   ]
  },
  {
   "cell_type": "markdown",
   "metadata": {},
   "source": [
    "# 数组的运算"
   ]
  },
  {
   "cell_type": "code",
   "execution_count": 20,
   "metadata": {},
   "outputs": [
    {
     "data": {
      "text/plain": [
       "(array([[1., 2., 3.],\n",
       "        [4., 5., 6.]]),\n",
       " array([[ 1.,  4.,  9.],\n",
       "        [16., 25., 36.]]),\n",
       " array([[0., 0., 0.],\n",
       "        [0., 0., 0.]]))"
      ]
     },
     "execution_count": 20,
     "metadata": {},
     "output_type": "execute_result"
    }
   ],
   "source": [
    "#大小相等的数组之间的任何算术运算都会应用到元素级别\n",
    "arr=np.array([[1.,2.,3.],[4.,5.,6.]])\n",
    "arr,arr*arr,arr-arr"
   ]
  },
  {
   "cell_type": "code",
   "execution_count": 21,
   "metadata": {},
   "outputs": [
    {
     "data": {
      "text/plain": [
       "(array([[1.        , 0.5       , 0.33333333],\n",
       "        [0.25      , 0.2       , 0.16666667]]),\n",
       " array([[1.        , 1.41421356, 1.73205081],\n",
       "        [2.        , 2.23606798, 2.44948974]]))"
      ]
     },
     "execution_count": 21,
     "metadata": {},
     "output_type": "execute_result"
    }
   ],
   "source": [
    "1/arr,arr**0.5"
   ]
  },
  {
   "cell_type": "code",
   "execution_count": 24,
   "metadata": {},
   "outputs": [
    {
     "data": {
      "text/plain": [
       "array([[0.        , 1.31863198, 0.        , 0.        ],\n",
       "       [0.        , 0.        , 0.        , 0.58013655],\n",
       "       [0.        , 0.34458031, 1.18025871, 0.        ],\n",
       "       [0.08645577, 0.        , 0.        , 0.        ],\n",
       "       [0.        , 0.32714862, 0.        , 0.48873588],\n",
       "       [0.60839296, 0.99224602, 1.69002018, 0.        ],\n",
       "       [1.20007999, 0.97747753, 0.        , 0.32022774]])"
      ]
     },
     "execution_count": 24,
     "metadata": {},
     "output_type": "execute_result"
    }
   ],
   "source": [
    "data=np.random.randn(7,4)\n",
    "#通过布尔型索引数组来选取数组中的元素\n",
    "data[data<0]=0\n",
    "data"
   ]
  }
 ],
 "metadata": {
  "interpreter": {
   "hash": "a8f61be024eba58adef938c9aa1e29e02cb3dece83a5348b1a2dafd16a070453"
  },
  "kernelspec": {
   "display_name": "Python 3.8.8 64-bit ('base': conda)",
   "language": "python",
   "name": "python3"
  },
  "language_info": {
   "codemirror_mode": {
    "name": "ipython",
    "version": 3
   },
   "file_extension": ".py",
   "mimetype": "text/x-python",
   "name": "python",
   "nbconvert_exporter": "python",
   "pygments_lexer": "ipython3",
   "version": "3.8.8"
  },
  "orig_nbformat": 4
 },
 "nbformat": 4,
 "nbformat_minor": 2
}
