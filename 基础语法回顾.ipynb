{
 "cells": [
  {
   "cell_type": "code",
   "execution_count": 1,
   "metadata": {},
   "outputs": [
    {
     "data": {
      "text/plain": [
       "{0: 0.9205247243972096,\n",
       " 1: -0.9902158570092646,\n",
       " 2: 1.73960344086924,\n",
       " 3: -0.2028540615954352,\n",
       " 4: -2.02751798285988,\n",
       " 5: -1.8413977990254702,\n",
       " 6: -1.5240207420540328}"
      ]
     },
     "execution_count": 1,
     "metadata": {},
     "output_type": "execute_result"
    }
   ],
   "source": [
    "import numpy as np\n",
    "data={i: np.random.randn() for i in range(7)}#创建了一个字典\n",
    "data#许多python对象被格式化为更易读的形式，被称作pretty-printed 如果直接用print打印输出，可读性有可能降低"
   ]
  },
  {
   "cell_type": "code",
   "execution_count": 2,
   "metadata": {},
   "outputs": [
    {
     "name": "stdout",
     "output_type": "stream",
     "text": [
      "\u001b[1;31mType:\u001b[0m        dict\n",
      "\u001b[1;31mString form:\u001b[0m {0: 0.9205247243972096, 1: -0.9902158570092646, 2: 1.73960344086924, 3: -0.2028540615954352, 4: -2.02751798285988, 5: -1.8413977990254702, 6: -1.5240207420540328}\n",
      "\u001b[1;31mLength:\u001b[0m      7\n",
      "\u001b[1;31mDocstring:\u001b[0m  \n",
      "dict() -> new empty dictionary\n",
      "dict(mapping) -> new dictionary initialized from a mapping object's\n",
      "    (key, value) pairs\n",
      "dict(iterable) -> new dictionary initialized as if via:\n",
      "    d = {}\n",
      "    for k, v in iterable:\n",
      "        d[k] = v\n",
      "dict(**kwargs) -> new dictionary initialized with the name=value pairs\n",
      "    in the keyword argument list.  For example:  dict(one=1, two=2)\n"
     ]
    }
   ],
   "source": [
    "data?"
   ]
  },
  {
   "cell_type": "code",
   "execution_count": 3,
   "metadata": {},
   "outputs": [
    {
     "name": "stderr",
     "output_type": "stream",
     "text": [
      "UsageError: Line magic function `%cpaste` not found.\n"
     ]
    }
   ],
   "source": [
    "%cpaste"
   ]
  },
  {
   "cell_type": "code",
   "execution_count": 4,
   "metadata": {},
   "outputs": [
    {
     "name": "stdout",
     "output_type": "stream",
     "text": [
      "35.5 µs ± 640 ns per loop (mean ± std. dev. of 7 runs, 10000 loops each)\n"
     ]
    }
   ],
   "source": [
    "a=np.random.randn(100,100)\n",
    "%timeit np.dot(a,a)"
   ]
  },
  {
   "cell_type": "code",
   "execution_count": 5,
   "metadata": {},
   "outputs": [
    {
     "data": {
      "text/plain": [
       "[<matplotlib.lines.Line2D at 0x2220ffb6520>]"
      ]
     },
     "execution_count": 5,
     "metadata": {},
     "output_type": "execute_result"
    },
    {
     "data": {
      "image/png": "[encoded data removed]",
      "text/plain": [
       "<Figure size 432x288 with 1 Axes>"
      ]
     },
     "metadata": {
      "needs_background": "light"
     },
     "output_type": "display_data"
    }
   ],
   "source": [
    "import matplotlib.pyplot as plt\n",
    "plt.plot(np.random.randn(50).cumsum())"
   ]
  },
  {
   "cell_type": "code",
   "execution_count": 6,
   "metadata": {},
   "outputs": [
    {
     "data": {
      "text/plain": [
       "array([ 0.61056565,  2.47862917,  4.41497436,  2.78597971,  1.52733983,\n",
       "        0.15450671,  0.75306459,  1.17411033,  1.75356606,  0.6240819 ,\n",
       "        0.96864343,  0.31032768,  1.39749289,  1.82492381, -0.02198827,\n",
       "       -1.56331353, -1.51506442, -0.97476561, -2.04200549, -1.63923678,\n",
       "       -3.21694887, -2.63614144, -2.74610338, -1.17469017, -0.31037525,\n",
       "        0.27837871, -0.33444905, -1.05339531, -2.33726099, -2.16858631,\n",
       "       -3.68110275, -5.23882163, -3.33061335, -1.31820825, -1.60495287,\n",
       "       -0.87387784, -1.20049152, -1.33922343, -0.39435357, -1.73639373,\n",
       "       -3.08486658, -1.50886214, -1.50243594, -1.34428939, -2.24116414,\n",
       "       -1.14660867, -0.2975072 ,  0.8395402 ,  2.85854113,  3.06368038])"
      ]
     },
     "execution_count": 6,
     "metadata": {},
     "output_type": "execute_result"
    }
   ],
   "source": [
    "np.random.randn(50).cumsum()"
   ]
  },
  {
   "cell_type": "code",
   "execution_count": 7,
   "metadata": {},
   "outputs": [
    {
     "name": "stdout",
     "output_type": "stream",
     "text": [
      "[[ 1  2  3]\n",
      " [ 5  7  9]\n",
      " [12 15 18]]\n"
     ]
    },
    {
     "data": {
      "text/plain": [
       "array([[ 1,  3,  6],\n",
       "       [ 4,  9, 15],\n",
       "       [ 7, 15, 24]], dtype=int32)"
      ]
     },
     "execution_count": 7,
     "metadata": {},
     "output_type": "execute_result"
    }
   ],
   "source": [
    "a=np.asarray([[1,2,3],\n",
    "             [4,5,6],\n",
    "             [7,8,9]])\n",
    "b=a.cumsum(axis=0)#按行累加\n",
    "print(b)\n",
    "c=a.cumsum(axis=1)#按列累加\n",
    "c"
   ]
  },
  {
   "cell_type": "code",
   "execution_count": 8,
   "metadata": {},
   "outputs": [
    {
     "data": {
      "text/plain": [
       "True"
      ]
     },
     "execution_count": 8,
     "metadata": {},
     "output_type": "execute_result"
    }
   ],
   "source": [
    "isinstance(a,np.ndarray)"
   ]
  },
  {
   "cell_type": "code",
   "execution_count": 9,
   "metadata": {},
   "outputs": [],
   "source": [
    "def isiterable(obj):\n",
    "    try:\n",
    "        iter(obj)\n",
    "        return True\n",
    "    except TypeError:\n",
    "        return False"
   ]
  },
  {
   "cell_type": "code",
   "execution_count": 10,
   "metadata": {},
   "outputs": [
    {
     "data": {
      "text/plain": [
       "'4.56 Argentine Pesos are worth US$1'"
      ]
     },
     "execution_count": 10,
     "metadata": {},
     "output_type": "execute_result"
    }
   ],
   "source": [
    "'{0:.2f} {1:s} are worth US${2:d}'.format(4.5560,'Argentine Pesos',1)"
   ]
  },
  {
   "cell_type": "markdown",
   "metadata": {},
   "source": [
    "# 日期和时间"
   ]
  },
  {
   "cell_type": "code",
   "execution_count": 11,
   "metadata": {},
   "outputs": [
    {
     "name": "stdout",
     "output_type": "stream",
     "text": [
      "2011-10-29 20:30:21\n"
     ]
    },
    {
     "data": {
      "text/plain": [
       "30"
      ]
     },
     "execution_count": 11,
     "metadata": {},
     "output_type": "execute_result"
    }
   ],
   "source": [
    "from datetime import datetime , date ,time \n",
    "dt=datetime(2011,10,29,20,30,21)#年月日时分秒\n",
    "print(dt)\n",
    "dt.day\n",
    "dt.minute"
   ]
  },
  {
   "cell_type": "code",
   "execution_count": 12,
   "metadata": {},
   "outputs": [
    {
     "data": {
      "text/plain": [
       "datetime.datetime(2011, 10, 29, 20, 0)"
      ]
     },
     "execution_count": 12,
     "metadata": {},
     "output_type": "execute_result"
    }
   ],
   "source": [
    "dt.date()#提取出日期对象\n",
    "dt.time()#提取出时间对象\n",
    "#strftime转化为字符串，需要填写格式符\n",
    "dt.strftime('%m/%d/%Y %H:%M')\n",
    "#将字符串转换为datetime对象，一样需要填写格式符\n",
    "datetime.strptime('19981225','%Y%m%d')\n",
    "#datetime为不可变类型，在聚类或对时间序列进行分组时，替换datetimes的time字段会非常有用\n",
    "dt.replace(minute=0,second=0)"
   ]
  },
  {
   "cell_type": "code",
   "execution_count": 13,
   "metadata": {},
   "outputs": [
    {
     "data": {
      "text/plain": [
       "datetime.datetime(2011, 11, 15, 22, 30)"
      ]
     },
     "execution_count": 13,
     "metadata": {},
     "output_type": "execute_result"
    }
   ],
   "source": [
    "dt2=datetime(2011,11,15,22,30)\n",
    "#两个datetime对象相减，会产生一个datetiem.timedelta类型，可以与datetime进行相加减\n",
    "delta=dt2-dt\n",
    "delta#转换为days，second结果\n",
    "dt+delta#将timedelta添加到datetime会得到一个新的datetime"
   ]
  },
  {
   "cell_type": "code",
   "execution_count": 14,
   "metadata": {},
   "outputs": [
    {
     "data": {
      "text/plain": [
       "(4, 5, 6)"
      ]
     },
     "execution_count": 14,
     "metadata": {},
     "output_type": "execute_result"
    }
   ],
   "source": [
    "#直接用逗号分隔是创建元组的最简方式\n",
    "tup=4,5,6\n",
    "tup"
   ]
  },
  {
   "cell_type": "code",
   "execution_count": 15,
   "metadata": {},
   "outputs": [
    {
     "data": {
      "text/plain": [
       "(1, 2, [3, 4, 5])"
      ]
     },
     "execution_count": 15,
     "metadata": {},
     "output_type": "execute_result"
    }
   ],
   "source": [
    "values=1,2,3,4,5\n",
    "a,b,*rest=values#*rest表示剩下部分的变量\n",
    "a,b,rest"
   ]
  },
  {
   "cell_type": "code",
   "execution_count": 16,
   "metadata": {},
   "outputs": [
    {
     "data": {
      "text/plain": [
       "[4, None, 'foo', 7, 8, (2, 3)]"
      ]
     },
     "execution_count": 16,
     "metadata": {},
     "output_type": "execute_result"
    }
   ],
   "source": [
    "#列表使用extend方法可以追加多个元素\n",
    "x=[4,None,'foo']\n",
    "x.extend([7,8,(2,3)])\n",
    "x"
   ]
  },
  {
   "cell_type": "code",
   "execution_count": 17,
   "metadata": {},
   "outputs": [
    {
     "name": "stdout",
     "output_type": "stream",
     "text": [
      "616 ns ± 40.1 ns per loop (mean ± std. dev. of 7 runs, 1000000 loops each)\n"
     ]
    }
   ],
   "source": [
    "%%timeit\n",
    "everything=[]\n",
    "list_of_list=[[1,2,3],[4,5,6],[7,8,9]]\n",
    "for chunk in list_of_list:\n",
    "    everything.extend(chunk)"
   ]
  },
  {
   "cell_type": "code",
   "execution_count": 18,
   "metadata": {},
   "outputs": [
    {
     "name": "stdout",
     "output_type": "stream",
     "text": [
      "499 ns ± 39.1 ns per loop (mean ± std. dev. of 7 runs, 1000000 loops each)\n"
     ]
    }
   ],
   "source": [
    "%%timeit\n",
    "everything=[]\n",
    "list_of_list=[[1,2,3],[4,5,6],[7,8,9]]\n",
    "for chunk in list_of_list:\n",
    "    everything+=chunk"
   ]
  },
  {
   "cell_type": "code",
   "execution_count": 19,
   "metadata": {},
   "outputs": [
    {
     "data": {
      "text/plain": [
       "[1, 2, 2, 2, 3, 4, 6, 7]"
      ]
     },
     "execution_count": 19,
     "metadata": {},
     "output_type": "execute_result"
    }
   ],
   "source": [
    "#二分搜索\n",
    "import bisect\n",
    "c=[1,2,2,2,3,4,7]\n",
    "bisect.bisect(c,2) #bisect方法返回插入该元素后在列表中所处位置\n",
    "bisect.insort(c,6)\n",
    "c"
   ]
  },
  {
   "cell_type": "code",
   "execution_count": 20,
   "metadata": {},
   "outputs": [
    {
     "data": {
      "text/plain": [
       "[1, 0, 6, 5, 7, 3, 2, 7]"
      ]
     },
     "execution_count": 20,
     "metadata": {},
     "output_type": "execute_result"
    }
   ],
   "source": [
    "#使用-1间隔取元素可以把列表颠倒过来\n",
    "seq=[7,2,3,7,5,6,0,1]\n",
    "seq[::-1]"
   ]
  },
  {
   "cell_type": "markdown",
   "metadata": {},
   "source": [
    "一些有用的序列函数"
   ]
  },
  {
   "cell_type": "markdown",
   "metadata": {},
   "source": [
    "# enumerate"
   ]
  },
  {
   "cell_type": "code",
   "execution_count": 21,
   "metadata": {},
   "outputs": [
    {
     "name": "stdout",
     "output_type": "stream",
     "text": [
      "0 7\n",
      "1 2\n",
      "2 3\n",
      "3 7\n",
      "4 5\n",
      "5 6\n",
      "6 0\n",
      "7 1\n"
     ]
    }
   ],
   "source": [
    "#enumerate函数,为当前项自动返回序号\n",
    "for i ,value in enumerate(seq):\n",
    "    print(i,value)"
   ]
  },
  {
   "cell_type": "code",
   "execution_count": 22,
   "metadata": {},
   "outputs": [
    {
     "data": {
      "text/plain": [
       "{'foo': 0, 'bar': 1, 'baz': 2}"
      ]
     },
     "execution_count": 22,
     "metadata": {},
     "output_type": "execute_result"
    }
   ],
   "source": [
    "some_list=['foo','bar','baz']\n",
    "mapping={}\n",
    "for i,v in enumerate(some_list):\n",
    "    mapping[v]=i\n",
    "mapping"
   ]
  },
  {
   "cell_type": "code",
   "execution_count": 23,
   "metadata": {},
   "outputs": [
    {
     "data": {
      "text/plain": [
       "[0, 1, 2, 2, 3, 6, 7]"
      ]
     },
     "execution_count": 23,
     "metadata": {},
     "output_type": "execute_result"
    }
   ],
   "source": [
    "#sorted函数返回一个新的排好序的列表\n",
    "sorted([7,1,2,6,0,3,2])"
   ]
  },
  {
   "cell_type": "markdown",
   "metadata": {},
   "source": [
    "# zip函数"
   ]
  },
  {
   "cell_type": "code",
   "execution_count": 24,
   "metadata": {},
   "outputs": [
    {
     "data": {
      "text/plain": [
       "[('foo', 'one'), ('bar', 'two'), ('baz', 'three')]"
      ]
     },
     "execution_count": 24,
     "metadata": {},
     "output_type": "execute_result"
    }
   ],
   "source": [
    "#zip函数,可以将多个列表、元组或其他序列一一对应成对组合成一个元组列表\n",
    "seq1=['foo','bar','baz']\n",
    "seq2=['one','two','three']\n",
    "zipped=zip(seq1,seq2)\n",
    "list(zipped)"
   ]
  },
  {
   "cell_type": "code",
   "execution_count": 25,
   "metadata": {},
   "outputs": [
    {
     "data": {
      "text/plain": [
       "[('foo', 'one', False), ('bar', 'two', True)]"
      ]
     },
     "execution_count": 25,
     "metadata": {},
     "output_type": "execute_result"
    }
   ],
   "source": [
    "seq3=[False,True]\n",
    "#zip可以处理人任意多的序列，元素个数取决于最短的序列\n",
    "list(zip(seq1,seq2,seq3))#结果中没有baz与three"
   ]
  },
  {
   "cell_type": "code",
   "execution_count": 26,
   "metadata": {},
   "outputs": [
    {
     "name": "stdout",
     "output_type": "stream",
     "text": [
      "0:foo,one\n",
      "1:bar,two\n",
      "2:baz,three\n"
     ]
    }
   ],
   "source": [
    "#zip可与enumerate结合使用，同时迭代多个序列\n",
    "for i, (a,b) in enumerate(zip(seq1,seq2)):\n",
    "    print('{0}:{1},{2}'.format(i,a,b))"
   ]
  },
  {
   "cell_type": "code",
   "execution_count": 27,
   "metadata": {},
   "outputs": [
    {
     "data": {
      "text/plain": [
       "(('Nolan', 'Roger', 'Schilling'), ('Ryan', 'Clemens', 'Curt'))"
      ]
     },
     "execution_count": 27,
     "metadata": {},
     "output_type": "execute_result"
    }
   ],
   "source": [
    "#zip还可以用来解压“被压缩”的序列\n",
    "pitchers=[('Nolan','Ryan'),('Roger','Clemens'),('Schilling','Curt')]\n",
    "first_names,last_names=zip(*pitchers)#*不能少\n",
    "first_names,last_names"
   ]
  },
  {
   "cell_type": "markdown",
   "metadata": {},
   "source": [
    "# reversed函数"
   ]
  },
  {
   "cell_type": "code",
   "execution_count": 28,
   "metadata": {},
   "outputs": [
    {
     "data": {
      "text/plain": [
       "[9, 8, 7, 6, 5, 4, 3, 2, 1, 0]"
      ]
     },
     "execution_count": 28,
     "metadata": {},
     "output_type": "execute_result"
    }
   ],
   "source": [
    "#可以从后向前迭代一个序列：\n",
    "list(reversed(range(10)))"
   ]
  },
  {
   "cell_type": "code",
   "execution_count": 29,
   "metadata": {},
   "outputs": [
    {
     "data": {
      "text/plain": [
       "{'a': 'some value', 'b': 'foo', 'c': 12}"
      ]
     },
     "execution_count": 29,
     "metadata": {},
     "output_type": "execute_result"
    }
   ],
   "source": [
    "#使用update方法可以将一个字典与另一个融合\n",
    "d1={'a':'some value','b':[1,2,3,4]}\n",
    "d1.update({'b':'foo','c':12})\n",
    "d1"
   ]
  },
  {
   "cell_type": "code",
   "execution_count": 30,
   "metadata": {},
   "outputs": [
    {
     "data": {
      "text/plain": [
       "{0: 4, 1: 3, 2: 2, 3: 1, 4: 0}"
      ]
     },
     "execution_count": 30,
     "metadata": {},
     "output_type": "execute_result"
    }
   ],
   "source": [
    "mapping=dict(zip(range(5),reversed(range(5))))#通过zip可将两个序列配对组合成字典\n",
    "mapping"
   ]
  },
  {
   "cell_type": "code",
   "execution_count": 31,
   "metadata": {},
   "outputs": [
    {
     "data": {
      "text/plain": [
       "{'a': ['apple', 'atom'], 'b': ['bat', 'bar', 'book']}"
      ]
     },
     "execution_count": 31,
     "metadata": {},
     "output_type": "execute_result"
    }
   ],
   "source": [
    "#通过一个首字母将一个列表里面的单词分类\n",
    "words=['apple','bat','bar','atom','book']\n",
    "by_letter={}#首字母对应的单词列表都放在一个dict里面\n",
    "for word in words:\n",
    "    letter=word[0]\n",
    "    if letter not in by_letter:\n",
    "        by_letter[letter]=[word]#不能直接写word,要写成列表形式\n",
    "    else:\n",
    "        by_letter[letter].append(word)\n",
    "by_letter"
   ]
  },
  {
   "cell_type": "code",
   "execution_count": 32,
   "metadata": {},
   "outputs": [
    {
     "name": "stdout",
     "output_type": "stream",
     "text": [
      "\u001b[1;31mSignature:\u001b[0m \u001b[0mdict\u001b[0m\u001b[1;33m.\u001b[0m\u001b[0msetdefault\u001b[0m\u001b[1;33m(\u001b[0m\u001b[0mself\u001b[0m\u001b[1;33m,\u001b[0m \u001b[0mkey\u001b[0m\u001b[1;33m,\u001b[0m \u001b[0mdefault\u001b[0m\u001b[1;33m=\u001b[0m\u001b[1;32mNone\u001b[0m\u001b[1;33m,\u001b[0m \u001b[1;33m/\u001b[0m\u001b[1;33m)\u001b[0m\u001b[1;33m\u001b[0m\u001b[1;33m\u001b[0m\u001b[0m\n",
      "\u001b[1;31mDocstring:\u001b[0m\n",
      "Insert key with a value of default if key is not in the dictionary.\n",
      "\n",
      "Return the value for key if key is in the dictionary, else default.\n",
      "\u001b[1;31mType:\u001b[0m      method_descriptor\n"
     ]
    }
   ],
   "source": [
    "# 上述代码可以使用setdefault进行改写，如果字典里面没有该key则插会添加该键，并将default内容设置为默认键值\n",
    "dict.setdefault?"
   ]
  },
  {
   "cell_type": "code",
   "execution_count": 33,
   "metadata": {},
   "outputs": [
    {
     "data": {
      "text/plain": [
       "{'a': ['apple', 'atom'], 'b': ['bat', 'bar', 'book']}"
      ]
     },
     "execution_count": 33,
     "metadata": {},
     "output_type": "execute_result"
    }
   ],
   "source": [
    "words=['apple','bat','bar','atom','book']\n",
    "by_letter={}#首字母对应的单词列表都放在一个dict里面.\n",
    "for word in words:\n",
    "    letter=word[0]\n",
    "    by_letter.setdefault(letter,[]).append(word)\n",
    "by_letter"
   ]
  },
  {
   "cell_type": "code",
   "execution_count": 34,
   "metadata": {},
   "outputs": [
    {
     "data": {
      "text/plain": [
       "defaultdict(list, {'a': ['apple', 'atom'], 'b': ['bat', 'bar', 'book']})"
      ]
     },
     "execution_count": 34,
     "metadata": {},
     "output_type": "execute_result"
    }
   ],
   "source": [
    "from collections import defaultdict\n",
    "by_letter={}\n",
    "by_letter=defaultdict(list)#以list类型生成该字典中每个键值的默认值，这里是为空list\n",
    "for word in words:\n",
    "    by_letter[word[0]].append(word)\n",
    "by_letter"
   ]
  },
  {
   "cell_type": "code",
   "execution_count": 35,
   "metadata": {},
   "outputs": [],
   "source": [
    "all_data = [['John', 'Emily', 'Michael', 'Mary', 'Steven'],['Maria', 'Juan', 'Javier', 'Natalia', 'Pilar']]"
   ]
  },
  {
   "cell_type": "code",
   "execution_count": 36,
   "metadata": {},
   "outputs": [
    {
     "data": {
      "text/plain": [
       "['Steven']"
      ]
     },
     "execution_count": 36,
     "metadata": {},
     "output_type": "execute_result"
    }
   ],
   "source": [
    "name_of_interst=[]\n",
    "for names in all_data:\n",
    "    enough_es=[name for name in names if name.count('e')>=2]\n",
    "    name_of_interst.extend(enough_es)\n",
    "name_of_interst"
   ]
  },
  {
   "cell_type": "markdown",
   "metadata": {},
   "source": [
    "# 函数也是对象"
   ]
  },
  {
   "cell_type": "code",
   "execution_count": 37,
   "metadata": {},
   "outputs": [],
   "source": [
    "states=['   Alabama ', 'Georgia!', 'Georgia', 'georgia', 'FlOrIda','south   carolina##', 'West virginia?']"
   ]
  },
  {
   "cell_type": "code",
   "execution_count": 38,
   "metadata": {},
   "outputs": [
    {
     "data": {
      "text/plain": [
       "['Alabama',\n",
       " 'Georgia',\n",
       " 'Georgia',\n",
       " 'Georgia',\n",
       " 'Florida',\n",
       " 'South   Carolina',\n",
       " 'West Virginia']"
      ]
     },
     "execution_count": 38,
     "metadata": {},
     "output_type": "execute_result"
    }
   ],
   "source": [
    "#需要做很多事情：去除空白符、删除各种标点符号、正确的大写格式等。做法之一是使用内建的字符串方法和正则表达式re模块：\n",
    "states=['Alabama ', 'Georgia!', 'Georgia', 'georgia', 'FlOrIda','south   carolina##', 'West virginia?']\n",
    "import re\n",
    "def clean_strings(strings):\n",
    "    result=[]\n",
    "    for value in strings:\n",
    "        value=value.strip()#去除空白符，第一个函数操作\n",
    "        value=re.sub('[!#?]','',value)#把字符串里面的#!?符号去掉，第二个函数操作\n",
    "        \n",
    "        value=value.title()#正确的大写格式，第三个函数操作\n",
    "        result.append(value)\n",
    "    return result\n",
    "\n",
    "states=clean_strings(states)\n",
    "states\n"
   ]
  },
  {
   "cell_type": "markdown",
   "metadata": {},
   "source": [
    "# 将需要在一组给定字符串上执行的所有运算做成一个列表："
   ]
  },
  {
   "cell_type": "code",
   "execution_count": 39,
   "metadata": {},
   "outputs": [],
   "source": [
    "def remove_punctuation(value):\n",
    "    return re.sub('[!#?]','',value)\n",
    "\n",
    "clean_ops=[str.strip,remove_punctuation,str.title]\n",
    "\n",
    "def clean_strings(strings,ops):\n",
    "    result=[]\n",
    "    for string in strings:\n",
    "        for function in ops:\n",
    "            string=function(string)\n",
    "        result.append(string)\n",
    "    return result"
   ]
  },
  {
   "cell_type": "code",
   "execution_count": 40,
   "metadata": {},
   "outputs": [
    {
     "data": {
      "text/plain": [
       "['Alabama',\n",
       " 'Georgia',\n",
       " 'Georgia',\n",
       " 'Georgia',\n",
       " 'Florida',\n",
       " 'South   Carolina',\n",
       " 'West Virginia']"
      ]
     },
     "execution_count": 40,
     "metadata": {},
     "output_type": "execute_result"
    }
   ],
   "source": [
    "states=['   Alabama ', 'Georgia!', 'Georgia', 'georgia', 'FlOrIda','south   carolina##', 'West virginia?']\n",
    "states=clean_strings(states,clean_ops)\n",
    "states"
   ]
  },
  {
   "cell_type": "markdown",
   "metadata": {},
   "source": [
    "# map函数"
   ]
  },
  {
   "cell_type": "code",
   "execution_count": 41,
   "metadata": {},
   "outputs": [
    {
     "name": "stdout",
     "output_type": "stream",
     "text": [
      "   Alabama \n",
      "Georgia\n",
      "Georgia\n",
      "georgia\n",
      "FlOrIda\n",
      "south   carolina\n",
      "West virginia\n"
     ]
    }
   ],
   "source": [
    "states=['   Alabama ', 'Georgia!', 'Georgia', 'georgia', 'FlOrIda','south   carolina##', 'West virginia?']\n",
    "for x in map(remove_punctuation,states):\n",
    "    print(x)"
   ]
  },
  {
   "cell_type": "markdown",
   "metadata": {},
   "source": [
    "# lambda函数"
   ]
  },
  {
   "cell_type": "code",
   "execution_count": 42,
   "metadata": {},
   "outputs": [
    {
     "data": {
      "text/plain": [
       "[16, 0, 1, 25, 36]"
      ]
     },
     "execution_count": 42,
     "metadata": {},
     "output_type": "execute_result"
    }
   ],
   "source": [
    "def apply_to_list(some_list,f):\n",
    "    return [f(x) for x in some_list]\n",
    "ints=[4,0,1,5,6]\n",
    "apply_to_list(ints,lambda x: x**2)"
   ]
  },
  {
   "cell_type": "code",
   "execution_count": 43,
   "metadata": {},
   "outputs": [
    {
     "data": {
      "text/plain": [
       "['aaaa', 'foo', 'abab', 'bar', 'card']"
      ]
     },
     "execution_count": 43,
     "metadata": {},
     "output_type": "execute_result"
    }
   ],
   "source": [
    "strings=['foo','card','bar','aaaa','abab']\n",
    "#根据字符串不同字母的数量进行排序，非常巧妙，把每个元素转化成set，再进行len计数，得到的就是不同字母的数量\n",
    "strings.sort(key=lambda x:len(set(x)))\n",
    "strings"
   ]
  },
  {
   "cell_type": "markdown",
   "metadata": {},
   "source": [
    "# 柯里化：部分参数应用"
   ]
  },
  {
   "cell_type": "code",
   "execution_count": 44,
   "metadata": {},
   "outputs": [
    {
     "data": {
      "text/plain": [
       "15"
      ]
     },
     "execution_count": 44,
     "metadata": {},
     "output_type": "execute_result"
    }
   ],
   "source": [
    "#从现有函数中派生出新函数，定义了一个可以调用现有函数的新函数\n",
    "def add_numbers(x,y):\n",
    "    return x+y\n",
    "add_five=lambda y: add_numbers(5,y)\n",
    "add_five(10)"
   ]
  },
  {
   "cell_type": "markdown",
   "metadata": {},
   "source": [
    "# 生成器"
   ]
  },
  {
   "cell_type": "markdown",
   "metadata": {},
   "source": [
    "一般的函数执行之后只会返回单个值，而生成器则是以延迟的方式返回一个值序列，即每返回一个值之后暂停，直到下一个值被请求时再继续。"
   ]
  },
  {
   "cell_type": "code",
   "execution_count": 45,
   "metadata": {},
   "outputs": [
    {
     "data": {
      "text/plain": [
       "<generator object squares at 0x00000222100A6890>"
      ]
     },
     "execution_count": 45,
     "metadata": {},
     "output_type": "execute_result"
    }
   ],
   "source": [
    "def squares(n=10):\n",
    "    print('Generating squares from 1 to {0}'.format(n**2))\n",
    "    for i in range(1,n+1):\n",
    "        yield i**2\n",
    "a=squares()\n",
    "a"
   ]
  },
  {
   "cell_type": "code",
   "execution_count": 46,
   "metadata": {},
   "outputs": [
    {
     "name": "stdout",
     "output_type": "stream",
     "text": [
      "Generating squares from 1 to 100\n",
      "1 4 9 16 25 36 49 64 81 100 "
     ]
    }
   ],
   "source": [
    "#直到你从该生成器中请求元素时，他才会开始执行代码,暂时理解为一个未被启动的函数，通过请求元素时，会被激活\n",
    "for x in a:\n",
    "    print(x,end=' ')"
   ]
  },
  {
   "cell_type": "code",
   "execution_count": 47,
   "metadata": {},
   "outputs": [
    {
     "data": {
      "text/plain": [
       "{0: 0, 1: 1, 2: 4, 3: 9, 4: 16}"
      ]
     },
     "execution_count": 47,
     "metadata": {},
     "output_type": "execute_result"
    }
   ],
   "source": [
    "# 通过生成器表达式可以更快的写出生成器，两边是不是方括号，而是圆括号\n",
    "gen=(x**2 for x in range(100))\n",
    "#for x in gen:\n",
    "#    print(x)\n",
    "\n",
    "dict((i,i**2) for i in range(5))"
   ]
  },
  {
   "cell_type": "markdown",
   "metadata": {},
   "source": [
    "# itertools模块"
   ]
  },
  {
   "cell_type": "code",
   "execution_count": 48,
   "metadata": {},
   "outputs": [
    {
     "name": "stdout",
     "output_type": "stream",
     "text": [
      "A ['Alan', 'Adam']\n",
      "W ['Wes', 'Will']\n",
      "A ['Albert']\n",
      "S ['Steven']\n"
     ]
    }
   ],
   "source": [
    "import itertools\n",
    "#itertools里面的groupby接受任何序列和一个函数，根据函数的返回值对序列中的连续元素进行分组\n",
    "first_letter=lambda x: x[0]\n",
    "names=['Alan','Adam','Wes','Will','Albert','Steven']\n",
    "for letter,names in itertools.groupby(names,first_letter):\n",
    "    print(letter,list(names))"
   ]
  },
  {
   "cell_type": "markdown",
   "metadata": {},
   "source": [
    "# 错误与异处理"
   ]
  },
  {
   "cell_type": "code",
   "execution_count": 52,
   "metadata": {},
   "outputs": [
    {
     "data": {
      "text/plain": [
       "(1, 2)"
      ]
     },
     "execution_count": 52,
     "metadata": {},
     "output_type": "execute_result"
    }
   ],
   "source": [
    "#处理float 错误\n",
    "def attempt_float(x):\n",
    "    try:\n",
    "        return float(x)\n",
    "    except (ValueError,TypeError):#可以使用元组包含多个指定异常\n",
    "        return x\n",
    "\n",
    "attempt_float('1.26454')\n",
    "attempt_float('something')\n",
    "attempt_float((1,2))"
   ]
  },
  {
   "cell_type": "code",
   "execution_count": 61,
   "metadata": {},
   "outputs": [
    {
     "ename": "NameError",
     "evalue": "name 'path' is not defined",
     "output_type": "error",
     "traceback": [
      "\u001b[1;31m---------------------------------------------------------------------------\u001b[0m",
      "\u001b[1;31mNameError\u001b[0m                                 Traceback (most recent call last)",
      "\u001b[1;32m<ipython-input-61-bd3d2af622bc>\u001b[0m in \u001b[0;36m<module>\u001b[1;34m\u001b[0m\n\u001b[0;32m      1\u001b[0m \u001b[1;31m# 当不想抑制异常，无论try的代码是否成功时，都执行一段代码，则可以使用finally\u001b[0m\u001b[1;33m\u001b[0m\u001b[1;33m\u001b[0m\u001b[1;33m\u001b[0m\u001b[0m\n\u001b[1;32m----> 2\u001b[1;33m \u001b[0mf\u001b[0m\u001b[1;33m=\u001b[0m\u001b[0mopen\u001b[0m\u001b[1;33m(\u001b[0m\u001b[0mpath\u001b[0m\u001b[1;33m,\u001b[0m\u001b[1;34m'w'\u001b[0m\u001b[1;33m)\u001b[0m\u001b[1;33m\u001b[0m\u001b[1;33m\u001b[0m\u001b[0m\n\u001b[0m\u001b[0;32m      3\u001b[0m \u001b[1;32mtry\u001b[0m\u001b[1;33m:\u001b[0m\u001b[1;33m\u001b[0m\u001b[1;33m\u001b[0m\u001b[0m\n\u001b[0;32m      4\u001b[0m     \u001b[0mwrite_to_file\u001b[0m\u001b[1;33m(\u001b[0m\u001b[0mf\u001b[0m\u001b[1;33m)\u001b[0m\u001b[1;33m\u001b[0m\u001b[1;33m\u001b[0m\u001b[0m\n\u001b[0;32m      5\u001b[0m \u001b[1;32mexcept\u001b[0m\u001b[1;33m:\u001b[0m\u001b[1;33m\u001b[0m\u001b[1;33m\u001b[0m\u001b[0m\n",
      "\u001b[1;31mNameError\u001b[0m: name 'path' is not defined"
     ]
    }
   ],
   "source": [
    "# 当不想抑制异常，无论try的代码是否成功时，都执行一段代码，则可以使用finally\n",
    "f=open(path,'w')\n",
    "try: \n",
    "    write_to_file(f)\n",
    "except:\n",
    "    print('Failed')\n",
    "else:\n",
    "    print('Succeeded')\n",
    "finally:\n",
    "    f.close()"
   ]
  },
  {
   "cell_type": "markdown",
   "metadata": {},
   "source": [
    "# 文件和操作系统"
   ]
  },
  {
   "cell_type": "code",
   "execution_count": 69,
   "metadata": {},
   "outputs": [],
   "source": [
    "path=r'D:\\tnsnames.ora'\n",
    "f=open(path)#获取文件的句柄"
   ]
  },
  {
   "cell_type": "code",
   "execution_count": 70,
   "metadata": {},
   "outputs": [
    {
     "name": "stdout",
     "output_type": "stream",
     "text": [
      "# tnsnames.ora Network Configuration File: E:\\software\\Oracle\\product\\11.2.0\\dbhome_1\\network\\admin\\tnsnames.ora\n",
      "\n",
      "# Generated by Oracle configuration tools.\n",
      "\n",
      "\n",
      "\n",
      "DEUS =\n",
      "\n",
      "  (DESCRIPTION =\n",
      "\n",
      "    (ADDRESS = (PROTOCOL = TCP)(HOST = localhost)(PORT = 1521))\n",
      "\n",
      "    (CONNECT_DATA =\n",
      "\n",
      "      (SERVER = DEDICATED)\n",
      "\n",
      "      (SERVICE_NAME = deus)\n",
      "\n",
      "    )\n",
      "\n",
      "  )\n",
      "\n",
      "\n",
      "\n",
      "GROUPLIN =\n",
      "\n",
      "  (DESCRIPTION =\n",
      "\n",
      "    (ADDRESS_LIST =\n",
      "\n",
      "      (ADDRESS = (PROTOCOL = TCP)(HOST = 218.192.166.14)(PORT = 1521))\n",
      "\n",
      "    )\n",
      "\n",
      "    (CONNECT_DATA =\n",
      "\n",
      "      (SERVER = DEDICATED)\n",
      "\n",
      "      (SERVICE_NAME = grouplin)\n",
      "\n",
      "    )\n",
      "\n",
      "  )\n",
      "\n",
      "\n",
      "\n",
      "  \n",
      "\n",
      "ORACLR_CONNECTION_DATA =\n",
      "\n",
      "  (DESCRIPTION =\n",
      "\n",
      "    (ADDRESS_LIST =\n",
      "\n",
      "      (ADDRESS = (PROTOCOL = IPC)(KEY = EXTPROC1521))\n",
      "\n",
      "    )\n",
      "\n",
      "    (CONNECT_DATA =\n",
      "\n",
      "      (SID = CLRExtProc)\n",
      "\n",
      "      (PRESENTATION = RO)\n",
      "\n",
      "    )\n",
      "\n",
      "  )\n",
      "\n",
      "\n",
      "\n",
      "ORCL =\n",
      "\n",
      "  (DESCRIPTION =\n",
      "\n",
      "    (ADDRESS = (PROTOCOL = TCP)(HOST = 202.38.228.20)(PORT = 1521))\n",
      "\n",
      "    (CONNECT_DATA =\n",
      "\n",
      "      (SERVER = DEDICATED)\n",
      "\n",
      "      (SERVICE_NAME = orcl)\n",
      "\n",
      "    )\n",
      "\n",
      "  )\n",
      "\n",
      "\n",
      "\n",
      "LISTENER_DEUS =\n",
      "\n",
      "  (ADDRESS = (PROTOCOL = TCP)(HOST = localhost)(PORT = 1521))\n",
      "\n",
      "\n",
      "\n",
      "\n",
      "\n"
     ]
    }
   ],
   "source": [
    "for line in f:\n",
    "    print(line)"
   ]
  },
  {
   "cell_type": "code",
   "execution_count": 72,
   "metadata": {},
   "outputs": [
    {
     "data": {
      "text/plain": [
       "['# tnsnames.ora Network Configuration File: E:\\\\software\\\\Oracle\\\\product\\\\11.2.0\\\\dbhome_1\\\\network\\\\admin\\\\tnsnames.ora',\n",
       " '# Generated by Oracle configuration tools.',\n",
       " '',\n",
       " 'DEUS =',\n",
       " '  (DESCRIPTION =',\n",
       " '    (ADDRESS = (PROTOCOL = TCP)(HOST = localhost)(PORT = 1521))',\n",
       " '    (CONNECT_DATA =',\n",
       " '      (SERVER = DEDICATED)',\n",
       " '      (SERVICE_NAME = deus)',\n",
       " '    )',\n",
       " '  )',\n",
       " '',\n",
       " 'GROUPLIN =',\n",
       " '  (DESCRIPTION =',\n",
       " '    (ADDRESS_LIST =',\n",
       " '      (ADDRESS = (PROTOCOL = TCP)(HOST = 218.192.166.14)(PORT = 1521))',\n",
       " '    )',\n",
       " '    (CONNECT_DATA =',\n",
       " '      (SERVER = DEDICATED)',\n",
       " '      (SERVICE_NAME = grouplin)',\n",
       " '    )',\n",
       " '  )',\n",
       " '',\n",
       " '',\n",
       " 'ORACLR_CONNECTION_DATA =',\n",
       " '  (DESCRIPTION =',\n",
       " '    (ADDRESS_LIST =',\n",
       " '      (ADDRESS = (PROTOCOL = IPC)(KEY = EXTPROC1521))',\n",
       " '    )',\n",
       " '    (CONNECT_DATA =',\n",
       " '      (SID = CLRExtProc)',\n",
       " '      (PRESENTATION = RO)',\n",
       " '    )',\n",
       " '  )',\n",
       " '',\n",
       " 'ORCL =',\n",
       " '  (DESCRIPTION =',\n",
       " '    (ADDRESS = (PROTOCOL = TCP)(HOST = 202.38.228.20)(PORT = 1521))',\n",
       " '    (CONNECT_DATA =',\n",
       " '      (SERVER = DEDICATED)',\n",
       " '      (SERVICE_NAME = orcl)',\n",
       " '    )',\n",
       " '  )',\n",
       " '',\n",
       " 'LISTENER_DEUS =',\n",
       " '  (ADDRESS = (PROTOCOL = TCP)(HOST = localhost)(PORT = 1521))',\n",
       " '',\n",
       " '']"
      ]
     },
     "execution_count": 72,
     "metadata": {},
     "output_type": "execute_result"
    }
   ],
   "source": [
    "#得到一组没有EOL的行\n",
    "lines=[x.rstrip() for x in open(path)]\n",
    "lines"
   ]
  },
  {
   "cell_type": "code",
   "execution_count": 73,
   "metadata": {},
   "outputs": [],
   "source": [
    "# 用open创建文件对象时，一定要用close关闭，来释放操作系统的资源\n",
    "f.close()"
   ]
  },
  {
   "cell_type": "code",
   "execution_count": 77,
   "metadata": {},
   "outputs": [
    {
     "data": {
      "text/plain": [
       "['# tnsnames.ora Network Configuration File: E:\\\\software\\\\Oracle\\\\product\\\\11.2.0\\\\dbhome_1\\\\network\\\\admin\\\\tnsnames.ora',\n",
       " '# Generated by Oracle configuration tools.',\n",
       " '',\n",
       " 'DEUS =',\n",
       " '  (DESCRIPTION =',\n",
       " '    (ADDRESS = (PROTOCOL = TCP)(HOST = localhost)(PORT = 1521))',\n",
       " '    (CONNECT_DATA =',\n",
       " '      (SERVER = DEDICATED)',\n",
       " '      (SERVICE_NAME = deus)',\n",
       " '    )',\n",
       " '  )',\n",
       " '',\n",
       " 'GROUPLIN =',\n",
       " '  (DESCRIPTION =',\n",
       " '    (ADDRESS_LIST =',\n",
       " '      (ADDRESS = (PROTOCOL = TCP)(HOST = 218.192.166.14)(PORT = 1521))',\n",
       " '    )',\n",
       " '    (CONNECT_DATA =',\n",
       " '      (SERVER = DEDICATED)',\n",
       " '      (SERVICE_NAME = grouplin)',\n",
       " '    )',\n",
       " '  )',\n",
       " '',\n",
       " '',\n",
       " 'ORACLR_CONNECTION_DATA =',\n",
       " '  (DESCRIPTION =',\n",
       " '    (ADDRESS_LIST =',\n",
       " '      (ADDRESS = (PROTOCOL = IPC)(KEY = EXTPROC1521))',\n",
       " '    )',\n",
       " '    (CONNECT_DATA =',\n",
       " '      (SID = CLRExtProc)',\n",
       " '      (PRESENTATION = RO)',\n",
       " '    )',\n",
       " '  )',\n",
       " '',\n",
       " 'ORCL =',\n",
       " '  (DESCRIPTION =',\n",
       " '    (ADDRESS = (PROTOCOL = TCP)(HOST = 202.38.228.20)(PORT = 1521))',\n",
       " '    (CONNECT_DATA =',\n",
       " '      (SERVER = DEDICATED)',\n",
       " '      (SERVICE_NAME = orcl)',\n",
       " '    )',\n",
       " '  )',\n",
       " '',\n",
       " 'LISTENER_DEUS =',\n",
       " '  (ADDRESS = (PROTOCOL = TCP)(HOST = localhost)(PORT = 1521))',\n",
       " '',\n",
       " '']"
      ]
     },
     "execution_count": 77,
     "metadata": {},
     "output_type": "execute_result"
    }
   ],
   "source": [
    "#采用with语句，可以在退出代码块时，自动关闭文件\n",
    "with open(path)as f:\n",
    "    lines=[x.rstrip() for x in f]\n",
    "lines"
   ]
  },
  {
   "cell_type": "code",
   "execution_count": 79,
   "metadata": {},
   "outputs": [
    {
     "data": {
      "text/plain": [
       "['# tnsnames.ora Network Configuration File: E:\\\\software\\\\Oracle\\\\product\\\\11.2.0\\\\dbhome_1\\\\network\\\\admin\\\\tnsnames.ora\\n',\n",
       " '# Generated by Oracle configuration tools.\\n',\n",
       " 'DEUS =\\n',\n",
       " '  (DESCRIPTION =\\n',\n",
       " '    (ADDRESS = (PROTOCOL = TCP)(HOST = localhost)(PORT = 1521))\\n',\n",
       " '    (CONNECT_DATA =\\n',\n",
       " '      (SERVER = DEDICATED)\\n',\n",
       " '      (SERVICE_NAME = deus)\\n',\n",
       " '    )\\n',\n",
       " '  )\\n',\n",
       " 'GROUPLIN =\\n',\n",
       " '  (DESCRIPTION =\\n',\n",
       " '    (ADDRESS_LIST =\\n',\n",
       " '      (ADDRESS = (PROTOCOL = TCP)(HOST = 218.192.166.14)(PORT = 1521))\\n',\n",
       " '    )\\n',\n",
       " '    (CONNECT_DATA =\\n',\n",
       " '      (SERVER = DEDICATED)\\n',\n",
       " '      (SERVICE_NAME = grouplin)\\n',\n",
       " '    )\\n',\n",
       " '  )\\n',\n",
       " '  \\n',\n",
       " 'ORACLR_CONNECTION_DATA =\\n',\n",
       " '  (DESCRIPTION =\\n',\n",
       " '    (ADDRESS_LIST =\\n',\n",
       " '      (ADDRESS = (PROTOCOL = IPC)(KEY = EXTPROC1521))\\n',\n",
       " '    )\\n',\n",
       " '    (CONNECT_DATA =\\n',\n",
       " '      (SID = CLRExtProc)\\n',\n",
       " '      (PRESENTATION = RO)\\n',\n",
       " '    )\\n',\n",
       " '  )\\n',\n",
       " 'ORCL =\\n',\n",
       " '  (DESCRIPTION =\\n',\n",
       " '    (ADDRESS = (PROTOCOL = TCP)(HOST = 202.38.228.20)(PORT = 1521))\\n',\n",
       " '    (CONNECT_DATA =\\n',\n",
       " '      (SERVER = DEDICATED)\\n',\n",
       " '      (SERVICE_NAME = orcl)\\n',\n",
       " '    )\\n',\n",
       " '  )\\n',\n",
       " 'LISTENER_DEUS =\\n',\n",
       " '  (ADDRESS = (PROTOCOL = TCP)(HOST = localhost)(PORT = 1521))\\n']"
      ]
     },
     "execution_count": 79,
     "metadata": {},
     "output_type": "execute_result"
    }
   ],
   "source": [
    "# 使用write或writelines方法来创建一个无空行版的prof_mod.py\n",
    "with open('tmp.txt','w')as handle:\n",
    "    handle.writelines(x for x in open(path)if len(x)>1)\n",
    "\n",
    "with open('tmp.txt')as f:\n",
    "    lines=f.readlines()\n",
    "lines"
   ]
  },
  {
   "cell_type": "markdown",
   "metadata": {},
   "source": [
    "# 连接数据库"
   ]
  },
  {
   "cell_type": "code",
   "execution_count": 43,
   "metadata": {},
   "outputs": [],
   "source": [
    "import pymysql\n",
    "connection = pymysql.connect(host='8.129.214.224', #host属性\n",
    "                             user='root',\n",
    "                             password='13106999886@Ab',\n",
    "                             db='freight'\n",
    ")"
   ]
  },
  {
   "cell_type": "markdown",
   "metadata": {},
   "source": [
    "# 创建光标对象，一个连接可以有很多光标，一个光标跟踪一种数据状态。\n",
    "# 光标对象作用是：创建、删除、写入、查询等等"
   ]
  },
  {
   "cell_type": "code",
   "execution_count": 45,
   "metadata": {},
   "outputs": [
    {
     "name": "stdout",
     "output_type": "stream",
     "text": [
      "(('app',), ('chat',), ('data_auditing',), ('emission',), ('freight',), ('gz_freight',), ('information_schema',), ('log4j',), ('mysql',), ('performance_schema',), ('report',), ('sys',), ('team',), ('userplate',))\n"
     ]
    }
   ],
   "source": [
    "cur=connection.cursor()\n",
    "#查看有哪些数据库\n",
    "cur.execute('show databases')\n",
    "print(cur.fetchall())"
   ]
  },
  {
   "cell_type": "code",
   "execution_count": 47,
   "metadata": {},
   "outputs": [
    {
     "data": {
      "text/plain": [
       "0"
      ]
     },
     "execution_count": 47,
     "metadata": {},
     "output_type": "execute_result"
    }
   ],
   "source": [
    "# 使用数据库\n",
    "cur.execute('use freight')"
   ]
  },
  {
   "cell_type": "code",
   "execution_count": null,
   "metadata": {},
   "outputs": [],
   "source": []
  }
 ],
 "metadata": {
  "interpreter": {
   "hash": "a8f61be024eba58adef938c9aa1e29e02cb3dece83a5348b1a2dafd16a070453"
  },
  "kernelspec": {
   "display_name": "Python 3.8.8 64-bit ('base': conda)",
   "name": "python3"
  },
  "language_info": {
   "codemirror_mode": {
    "name": "ipython",
    "version": 3
   },
   "file_extension": ".py",
   "mimetype": "text/x-python",
   "name": "python",
   "nbconvert_exporter": "python",
   "pygments_lexer": "ipython3",
   "version": "3.8.8"
  },
  "orig_nbformat": 4
 },
 "nbformat": 4,
 "nbformat_minor": 2
}
